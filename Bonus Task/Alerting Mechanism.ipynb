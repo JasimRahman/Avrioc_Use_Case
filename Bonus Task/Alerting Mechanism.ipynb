{
 "cells": [
  {
   "cell_type": "code",
   "execution_count": 1,
   "id": "ff33bf10",
   "metadata": {},
   "outputs": [],
   "source": [
    "import smtplib\n",
    "from email.mime.text import MIMEText\n",
    "\n",
    "def send_alert(item_id, interaction_count):\n",
    "    msg = MIMEText(f\"Alert! Item {item_id} has {interaction_count} interactions.\")\n",
    "    msg['Subject'] = \"Interaction Threshold Alert\"\n",
    "    msg['From'] = \"alert@company.com\"\n",
    "    msg['To'] = \"admin@company.com\"\n",
    "\n",
    "    with smtplib.SMTP('localhost') as server:\n",
    "        server.send_message(msg)\n",
    "        print(f\"Alert sent for item {item_id}\")"
   ]
  },
  {
   "cell_type": "code",
   "execution_count": null,
   "id": "b4cab2e4",
   "metadata": {},
   "outputs": [],
   "source": []
  }
 ],
 "metadata": {
  "kernelspec": {
   "display_name": "Python 3 (ipykernel)",
   "language": "python",
   "name": "python3"
  },
  "language_info": {
   "codemirror_mode": {
    "name": "ipython",
    "version": 3
   },
   "file_extension": ".py",
   "mimetype": "text/x-python",
   "name": "python",
   "nbconvert_exporter": "python",
   "pygments_lexer": "ipython3",
   "version": "3.9.12"
  }
 },
 "nbformat": 4,
 "nbformat_minor": 5
}
