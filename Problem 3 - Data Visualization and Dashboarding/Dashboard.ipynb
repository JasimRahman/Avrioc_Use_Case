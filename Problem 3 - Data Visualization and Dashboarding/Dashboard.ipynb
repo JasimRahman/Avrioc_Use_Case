{
 "cells": [
  {
   "cell_type": "markdown",
   "id": "0adfbba4",
   "metadata": {},
   "source": [
    "# Problem 3: Data Visualization and Dashboarding\n",
    "Explanation:\n",
    "This step visualizes the aggregated data stored in MongoDB. We chose Streamlit for its simplicity and ability to create interactive dashboards quickly. The dashboard queries MongoDB and displays metrics like average interactions per user and max/min interactions per item."
   ]
  },
  {
   "cell_type": "code",
   "execution_count": 1,
   "id": "b8596ad4",
   "metadata": {},
   "outputs": [
    {
     "name": "stderr",
     "output_type": "stream",
     "text": [
      "C:\\Users\\hh\\anaconda3\\lib\\site-packages\\pandas\\core\\arrays\\masked.py:60: UserWarning: Pandas requires version '1.3.6' or newer of 'bottleneck' (version '1.3.4' currently installed).\n",
      "  from pandas.core import (\n",
      "2024-12-07 19:30:24.143 WARNING streamlit.runtime.scriptrunner_utils.script_run_context: Thread 'MainThread': missing ScriptRunContext! This warning can be ignored when running in bare mode.\n",
      "2024-12-07 19:30:26.297 \n",
      "  \u001b[33m\u001b[1mWarning:\u001b[0m to view this Streamlit app on a browser, run it with the following\n",
      "  command:\n",
      "\n",
      "    streamlit run C:\\Users\\hh\\anaconda3\\lib\\site-packages\\ipykernel_launcher.py [ARGUMENTS]\n",
      "2024-12-07 19:30:26.298 Thread 'MainThread': missing ScriptRunContext! This warning can be ignored when running in bare mode.\n",
      "2024-12-07 19:30:26.299 Thread 'MainThread': missing ScriptRunContext! This warning can be ignored when running in bare mode.\n",
      "2024-12-07 19:30:26.301 Thread 'MainThread': missing ScriptRunContext! This warning can be ignored when running in bare mode.\n",
      "2024-12-07 19:30:26.302 Thread 'MainThread': missing ScriptRunContext! This warning can be ignored when running in bare mode.\n",
      "2024-12-07 19:30:26.303 Thread 'MainThread': missing ScriptRunContext! This warning can be ignored when running in bare mode.\n",
      "2024-12-07 19:30:26.399 Thread 'MainThread': missing ScriptRunContext! This warning can be ignored when running in bare mode.\n",
      "2024-12-07 19:30:26.400 Thread 'MainThread': missing ScriptRunContext! This warning can be ignored when running in bare mode.\n",
      "2024-12-07 19:30:26.426 Thread 'MainThread': missing ScriptRunContext! This warning can be ignored when running in bare mode.\n",
      "2024-12-07 19:30:26.427 Thread 'MainThread': missing ScriptRunContext! This warning can be ignored when running in bare mode.\n"
     ]
    }
   ],
   "source": [
    "import streamlit as st\n",
    "import pandas as pd\n",
    "from pymongo import MongoClient\n",
    "\n",
    "def fetch_data():\n",
    "    # Fetch data from MongoDB, excluding the _id field\n",
    "    client = MongoClient('localhost', 27017)\n",
    "    db = client['user_data']\n",
    "    collection = db['aggregations']\n",
    "    data = list(collection.find({}, {'_id': 0}))\n",
    "    return pd.DataFrame(data)\n",
    "\n",
    "def main():\n",
    "    st.title(\"Real-Time Interaction Dashboard\")\n",
    "\n",
    "    # Streamlit auto-refresh mechanism\n",
    "    st.write(\"Metrics Overview\")\n",
    "    \n",
    "    # Fetch and display data\n",
    "    df = fetch_data()\n",
    "\n",
    "    if not df.empty:\n",
    "        st.dataframe(df)\n",
    "\n",
    "        # Display metrics\n",
    "        st.metric(\"Average Interactions (Overall)\", df[\"average_interactions\"].mean())\n",
    "\n",
    "        # Example line chart visualization\n",
    "        if \"timestamp\" in df.columns and \"average_interactions\" in df.columns:\n",
    "            df[\"timestamp\"] = pd.to_datetime(df[\"timestamp\"])  # Ensure timestamp is in datetime format\n",
    "            df = df.sort_values(\"timestamp\")  # Sort by time for proper chart visualization\n",
    "            st.line_chart(data=df.set_index(\"timestamp\")[\"average_interactions\"])\n",
    "    else:\n",
    "        st.warning(\"No data available in the database.\")\n",
    "\n",
    "# This ensures the app runs correctly\n",
    "if __name__ == \"__main__\":\n",
    "    main()\n"
   ]
  },
  {
   "cell_type": "code",
   "execution_count": null,
   "id": "dd8ab312",
   "metadata": {},
   "outputs": [],
   "source": []
  }
 ],
 "metadata": {
  "kernelspec": {
   "display_name": "Python 3 (ipykernel)",
   "language": "python",
   "name": "python3"
  },
  "language_info": {
   "codemirror_mode": {
    "name": "ipython",
    "version": 3
   },
   "file_extension": ".py",
   "mimetype": "text/x-python",
   "name": "python",
   "nbconvert_exporter": "python",
   "pygments_lexer": "ipython3",
   "version": "3.9.12"
  }
 },
 "nbformat": 4,
 "nbformat_minor": 5
}
